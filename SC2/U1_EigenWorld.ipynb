{
 "cells": [
  {
   "cell_type": "markdown",
   "metadata": {},
   "source": [
    "<center>\n",
    "    <h1> ILI286 - Computación Científica II  </h1>\n",
    "    <h2> Valores y Vectores Propios </h2>\n",
    "    <h2> [[S]cientific [C]omputing [T]eam](#acknowledgements)</h2>\n",
    "    <h2> Version: 1.11</h2>\n",
    "</center>"
   ]
  },
  {
   "cell_type": "markdown",
   "metadata": {},
   "source": [
    "# Tabla de Contenidos\n",
    "* [Introducción](#intro)\n",
    "* [Marco Teórico](#teo)\n",
    "* [Algoritmos e Implementaciones](#alg)\n",
    "    * [Power Iteration](#pi)\n",
    "    * [Inverse Power Iteration](#invpi)\n",
    "    * [Rayleigh Quotient Iteration](#rq)\n",
    "    * [SciPy Eigenvalue](#sp)\n",
    "    * [Problema de Aplicación](#problema)\n",
    "* [Acknowledgements](#acknowledgements)"
   ]
  },
  {
   "cell_type": "markdown",
   "metadata": {},
   "source": [
    "<div id='intro' />\n",
    "# Introducción\n",
    "\n",
    "Determinar los valores y vectores propios de una matriz, aporta gran información acerca de las características y propiedades de esta, como también posee gran cantidad de aplicaciones prácticas como: Análisis de convergencia de sistemas dinámicos, PCA (Principal Component Analysis), análisis espectral, Eigenfaces, etc.\n",
    "\n",
    "Sin embargo la determinación de los valores y vectores propios no es un problema simple. Como ya debe haber estudiado en cursos anteriores, existe un método directo basado en cálculo de las raíces del polinomio característico $p(x)$. Pero este problema resulta ser _mal condicionado_, esto es, a pequeñas variaciones en la matriz $A$ original, existe una gran variación en los resultados de los valores y vectores propios obtenidos (Ver polinomio de Wilkinson, texto guia).\n",
    "\n",
    "En este notebook estudiaremos un método iterativo conocido como _Power Iteration_ (y sus extensiones), que de modo similar a una iteración de punto fijo, permite obtener numéricamente los eigen(valores/vectores)."
   ]
  },
  {
   "cell_type": "markdown",
   "metadata": {},
   "source": [
    "<div id='teo' />\n",
    "# Marco Teórico\n",
    "\n",
    "La motivación tras PI (Power Iteration) es que la multiplicación por matrices, tiende a \"dirigir\" a los vectores hacia el vector propio dominante (aquel con valor propio de mayor magnitud).\n",
    "\n",
    "El algoritmo en cuestión es como sigue:\n",
    "\n",
    "```python\n",
    "x = 'Initial guess'\n",
    "for i in range n_iter:\n",
    "    u = x / ||x||             #normalization step\n",
    "    x = dot(A,u)              #power iteration step\n",
    "    lamb = dot(u, dot(A, u))  #Rayleigh quotient\n",
    "return x / ||x||\n",
    "```\n",
    "\n",
    "en donde se agrega una paso de _normalización_, para evitar que la magnitud del vector aumente sin límite, y el valor propio asociado se obtiene por medio del cociente de Rayleigh:\n",
    "\n",
    "$$ \\lambda = \\frac{x^T A x}{x^T x} $$\n",
    "\n",
    "Para entender porque se de esta convergencia, considere una matriz $A \\in \\mathbb{R}^{m \\times m}$ con valores propios reales $\\lambda_1, \\lambda_2, \\ldots, \\lambda_m$ tales que $|\\lambda_1| > |\\lambda_2| \\geq |\\lambda_3| \\geq \\ldots \\geq |\\lambda_m|$, tales que los vectores propios $\\{v_1, v_2, \\ldots, v_m \\}$ conforman una base de $\\mathbb{R}^m$. Sea entonces $x_0$ el _initial guess_, este puede ser expresado como una combinación lineal de los vectores propios $v_k$:\n",
    "\n",
    "\\begin{align}\n",
    "A x_0 &= c_1 A v_1 + \\cdots + c_m A v_m = c_1 \\lambda_1 v_1 + \\cdots + c_m \\lambda_m v_m \\\\\n",
    "A^2 x_0 & = c_1 \\lambda_1 A v_1 + \\cdots + c_m \\lambda_m A v_m = c_1 \\lambda_1^2 v_1 + \\cdots + c_m \\lambda_m^2 v_m \\\\\n",
    "\\vdots &= \\vdots \\\\\n",
    "A^k x_0 &= c_1 \\lambda_1^k v_1 + \\cdots + c_m \\lambda_m^k v_m\n",
    "\\end{align}\n",
    "\n",
    "Factorizando $\\lambda_1^k$ del último resultado se obtiene:\n",
    "\n",
    "$$ \\frac{A^k x_0}{\\lambda_1^k} = c_1 v_1 + c_2 \\left(\\frac{\\lambda_2}{\\lambda_1}\\right)^k v_2 + \\cdots + c_m \\left(\\frac{\\lambda_m}{\\lambda_1}\\right)^k v_m$$\n",
    "\n",
    "Dado que $|\\lambda_1|>|\\lambda_i| \\ \\ \\forall i \\neq 1$, a medida que $k \\rightarrow \\infty$ todos los términos excepto el primero tienden a cero, con razón de convergencia $S \\leq |\\lambda_2/\\lambda_1|$. Obteniendo como resultado un vector que es múltiplo del vector propio dominante.\n",
    "\n",
    "**Nota**: Para más detalles revisar: _Numerical Analysis, Tymothy Sauer, Chapter 12: Eigenvalues and Singular Values_"
   ]
  },
  {
   "cell_type": "markdown",
   "metadata": {},
   "source": [
    "<div id='alg' />\n",
    "# Algoritmos e Implementaciones"
   ]
  },
  {
   "cell_type": "markdown",
   "metadata": {},
   "source": [
    "### Librerías utilizadas durante la clase"
   ]
  },
  {
   "cell_type": "code",
   "execution_count": 1,
   "metadata": {},
   "outputs": [],
   "source": [
    "import numpy as np\n",
    "from scipy import linalg\n",
    "from matplotlib import pyplot as plt\n",
    "%matplotlib inline"
   ]
  },
  {
   "cell_type": "markdown",
   "metadata": {},
   "source": [
    "### Matriz y vector de prueba"
   ]
  },
  {
   "cell_type": "code",
   "execution_count": 2,
   "metadata": {},
   "outputs": [
    {
     "name": "stdout",
     "output_type": "stream",
     "text": [
      "A =\n",
      " [[ 1.   0.5 -0.1]\n",
      " [ 0.5  1.  10. ]\n",
      " [ 2.   3.   5. ]]\n",
      "x = [1. 0. 0.]\n"
     ]
    }
   ],
   "source": [
    "A = np.array([[1, 0.5],[0.5, 1]])\n",
    "x = np.array([1.,0.])\n",
    "A = np.array([[1., 0.5,-0.1],[0.5, 1.,10.0],[2.,3.,5.]])\n",
    "x = np.array([1.,0.,0.])\n",
    "print(\"A =\\n\",A)\n",
    "print(\"x =\",x)"
   ]
  },
  {
   "cell_type": "markdown",
   "metadata": {},
   "source": [
    "<div id='pi' />\n",
    "## Power Iteration \n",
    "A continuación se entrega el código del algoritmo clásico de Power Iteration. Pruebe cambiando las matrices y los parámetros del algoritmo."
   ]
  },
  {
   "cell_type": "code",
   "execution_count": 3,
   "metadata": {},
   "outputs": [],
   "source": [
    "def power_iteration(A, x, k, verbose=False):\n",
    "    \"\"\"\n",
    "    Program 12.1 Power iteration\n",
    "    Computes dominant eigenvector of square matrix\n",
    "    Input: matrix A, initial (nonzero) vector x, number of steps k\n",
    "    Output: dominant eigenvalue lam, eigenvector u\n",
    "    \"\"\"\n",
    "    if verbose: print(\"Power Iteration Method\\n%s\"%('='*80))\n",
    "    for j in range(k):\n",
    "        u = x/np.linalg.norm(x)\n",
    "        x = np.dot(A, u)\n",
    "        lam = np.dot(u, x) #not really necessary to compute it at each iteration\n",
    "        if verbose: print(\"k=%d, lambda=%+.3f, u=%s\"%(j,lam,str(u.T)))\n",
    "    u = x/np.linalg.norm(x)\n",
    "    if verbose: print(\"k=%d, lambda=%+.3f, u=%s\\n\"%(j+1,lam,str(u.T)))\n",
    "    return (lam, u)    "
   ]
  },
  {
   "cell_type": "code",
   "execution_count": 20,
   "metadata": {},
   "outputs": [
    {
     "name": "stdout",
     "output_type": "stream",
     "text": [
      "Power Iteration Method\n",
      "================================================================================\n",
      "k=0, lambda=+0.663, u=[1. 0. 0.]\n",
      "k=1, lambda=+2.215, u=[0.40573094 0.10328364 0.90813815]\n",
      "k=2, lambda=+2.614, u=[0.64137324 0.45291844 0.61927801]\n",
      "k=3, lambda=+2.687, u=[0.53087639 0.35121787 0.77124333]\n",
      "k=4, lambda=+2.699, u=[0.57670422 0.39828204 0.71329072]\n",
      "k=5, lambda=+2.701, u=[0.55828001 0.37971504 0.73765841]\n",
      "k=6, lambda=+2.701, u=[0.56585764 0.38737082 0.72783857]\n",
      "k=7, lambda=+2.701, u=[0.56278091 0.38426193 0.73186093]\n",
      "k=8, lambda=+2.701, u=[0.56403742 0.38553117 0.73022429]\n",
      "k=9, lambda=+2.701, u=[0.56352557 0.38501404 0.73089201]\n",
      "k=10, lambda=+2.701, u=[0.56373429 0.3852249  0.73061989]\n",
      "k=11, lambda=+2.701, u=[0.56364922 0.38513895 0.73073084]\n",
      "k=12, lambda=+2.701, u=[0.5636839  0.38517399 0.73068561]\n",
      "k=13, lambda=+2.701, u=[0.56366976 0.3851597  0.73070405]\n",
      "k=14, lambda=+2.701, u=[0.56367553 0.38516553 0.73069653]\n",
      "k=15, lambda=+2.701, u=[0.56367318 0.38516315 0.73069959]\n",
      "k=16, lambda=+2.701, u=[0.56367413 0.38516412 0.73069835]\n",
      "k=17, lambda=+2.701, u=[0.56367374 0.38516373 0.73069885]\n",
      "k=18, lambda=+2.701, u=[0.5636739  0.38516389 0.73069865]\n",
      "k=19, lambda=+2.701, u=[0.56367384 0.38516382 0.73069873]\n",
      "k=20, lambda=+2.701, u=[0.56367386 0.38516385 0.7306987 ]\n",
      "\n",
      "lambda = 2.7014626840392237\n",
      "u (dominant eigenvector) = [0.56367386 0.38516385 0.7306987 ]\n"
     ]
    }
   ],
   "source": [
    "# Testing algorithm\n",
    "lam, u = power_iteration(A, x, 20, verbose=True)\n",
    "print(\"lambda = {0}\".format(lam))\n",
    "print(\"u (dominant eigenvector) = {0}\".format(u))"
   ]
  },
  {
   "cell_type": "markdown",
   "metadata": {},
   "source": [
    "<div id='invpi' />\n",
    "## Inverse Power Iteration\n",
    "\n",
    "Una de las complicaciones que tiene el algoritmo anterior, es que sólo permite encontrar el valor y vectores propios dominantes. Luego ¿Cómo encontramos el resto?. Para responder esta pregunta, es necesario examinar dos propiedades importantes:\n",
    "\n",
    "1. Los valores propios de la matriz inversa $A^{-1}$ son los recíprocos de los valores propios de $A$, es decir: $\\lambda_1^{-1}, \\lambda_2^{-1}, \\ldots , \\lambda_m^{-1}$. Los vectores propios de se mantienen inalterados.\n",
    "2. Los valores propios de la matriz con _shift_ $A - sI$ son: $\\lambda_1-s, \\lambda_2-s, \\ldots, \\lambda_m-s$. Del mismo modo, los vectores propios se mantienen inalterados.\n",
    "\n",
    "**Tarea**: Pruebe estas propiedades!\n",
    "\n",
    "La idea es entonces realizar un shift $\\widetilde{s}$ cercano a algún valor propio $s_k$, y computar PI sobre $(A - \\widetilde{s}I)^{-1}$. Luego:\n",
    "\n",
    "$$ |\\lambda_k - \\widetilde{s}| < |\\lambda_i - \\widetilde{s}| \\leftrightarrow  \\bigg| \\frac{1}{\\lambda_k - \\widetilde{s}} \\bigg| > \\bigg| \\frac{1}{\\lambda_i - \\widetilde{s}} \\bigg| \\ \\ \\forall i \\neq k \\ $$\n",
    "\n",
    "entonces $\\frac{1}{\\lambda_k - \\widetilde{s}}$ corresponderá con el vector propio dominante de $(A - \\widetilde{s}I)^{-1}$. Notar que por lo enunciado en las propiedades, los vectores propios se mantienen sin alteraciones.\n",
    "\n",
    "La idea anterior se ve reflejada en el algoritmo implementado a continuación:"
   ]
  },
  {
   "cell_type": "code",
   "execution_count": 14,
   "metadata": {},
   "outputs": [],
   "source": [
    "def inverse_power_iteration(A, x, s, k, verbose=False):\n",
    "    \"\"\"\n",
    "    Program 12.2 Inverse Power iteration\n",
    "    Computes eigenvector of square matrix nearest to input s\n",
    "    Input: matrix A, initial (nonzero) vector x, shift s, number of steps k\n",
    "    Output: dominant eigenvalue lam, eigenvector of inv(A-sI)\n",
    "    \"\"\"\n",
    "    if verbose: print(\"Inverse Power Iteration Method\\n%s\"%('='*80))\n",
    "    As = A - s*np.eye(*A.shape)\n",
    "    for j in range(k):\n",
    "        u = x/np.linalg.norm(x)\n",
    "        x = np.linalg.solve(As, u)\n",
    "        lam = np.dot(u.T, x)\n",
    "        if verbose: print(\"k=%d, lambda=%+.3f, u=%s\"%(j,1./lam+s,str(u.T)))\n",
    "    u = x/np.linalg.norm(x)\n",
    "    if verbose: print(\"k=%d, lambda=%+.3f, u=%s\\n\"%(j+1,1./lam+s,str(u.T)))\n",
    "    return (1./lam+s, u)"
   ]
  },
  {
   "cell_type": "code",
   "execution_count": 15,
   "metadata": {},
   "outputs": [
    {
     "name": "stdout",
     "output_type": "stream",
     "text": [
      "Inverse Power Iteration Method\n",
      "================================================================================\n",
      "k=0, lambda=+0.667, u=[1. 0. 0.]\n",
      "k=1, lambda=+0.708, u=[ 0.83205029 -0.5547002   0.        ]\n",
      "k=2, lambda=+0.689, u=[ 0.85215434 -0.5224972  -0.02880359]\n",
      "k=3, lambda=+0.692, u=[ 0.84821173 -0.52903451 -0.02567759]\n",
      "k=4, lambda=+0.692, u=[ 0.84877374 -0.52810527 -0.02622915]\n",
      "k=5, lambda=+0.692, u=[ 0.84868498 -0.52825191 -0.02614794]\n",
      "k=6, lambda=+0.692, u=[ 0.84869852 -0.52822953 -0.02616062]\n",
      "k=7, lambda=+0.692, u=[ 0.84869643 -0.52823299 -0.02615868]\n",
      "k=8, lambda=+0.692, u=[ 0.84869675 -0.52823246 -0.02615898]\n",
      "k=9, lambda=+0.692, u=[ 0.84869671 -0.52823254 -0.02615893]\n",
      "k=10, lambda=+0.692, u=[ 0.84869671 -0.52823252 -0.02615894]\n",
      "\n",
      "lambda = 0.6918800781738075\n",
      "v = [ 0.84869671 -0.52823252 -0.02615894]\n"
     ]
    }
   ],
   "source": [
    "# Testing algoritm\n",
    "lam, u = inverse_power_iteration(A, x, s=1./4, k=10, verbose=True)\n",
    "print(\"lambda = {0}\".format(lam))\n",
    "print(\"v = {0}\".format(u))"
   ]
  },
  {
   "cell_type": "markdown",
   "metadata": {},
   "source": [
    "<div id='rq' />\n",
    "## Rayleigh Quotient Iteration\n",
    "\n",
    "Como se analizó anteriormente, PI e _Inverse_ PI tienen convergencia lineal con razón de convergencia $S \\approx \\frac{\\lambda_2}{\\lambda_1}$. Además sabemos que _Inverse_ PI converge hacia el valor propio más cercano al shift, y que mientras más cercano sea el shift a tal valor, más rápido se logra la convergencia.\n",
    "\n",
    "Entonces la idea de RQI es la siguiente: Si en cada iteración se tiene una aproximación del valor propio que andamos buscando, podemos ocupar esta aproximación como shift $s$, y dado que el shift será más cercano al valor propio, se acelerará la convergencia.\n",
    "\n",
    "Tal valor aproximado es obtenido con el cociente de Rayleigh, y entonces el shift es actualizado con este cociente en cada iteración. Como resultado se produce el siguiente _trade-off_:\n",
    "\n",
    "1. La convergencia pasa a ser cuadrática (de modo general) y cúbica para matrices simétricas.\n",
    "2. Sin embargo, se paga el costo de tener que resolver un sistema de ecuaciones diferentes en cada iteración.\n",
    "\n",
    "\n",
    "A continuación se presenta una implementación del RQI:"
   ]
  },
  {
   "cell_type": "code",
   "execution_count": 16,
   "metadata": {},
   "outputs": [],
   "source": [
    "def rqi(A, x, k, verbose=False):\n",
    "    \"\"\"\n",
    "    Program 12.3 Rayleigh Quotient Iteration\n",
    "    Input: matrix A, initial (nonzero) vector x, number of steps k\n",
    "    Output: eigenvalue lam, eigenvector of inv(A-sI)\n",
    "    \"\"\"\n",
    "    if verbose: print(\"Rayleigh Quotient Iteration\\n%s\"%('='*80))\n",
    "    for j in range(k):\n",
    "        u = x/np.linalg.norm(x)\n",
    "        lam = np.dot(u.T, np.dot(A, u))\n",
    "        try:\n",
    "            x = np.linalg.solve(A -lam*np.eye(*A.shape), u)\n",
    "        except numpy.linalg.LinAlgError:\n",
    "            break\n",
    "        if verbose: print(\"k=%d, lambda=%+.3f, u=%s\"%(j,lam,str(u.T)))\n",
    "    u = x/np.linalg.norm(x)\n",
    "    lam = float(np.dot(u.T, np.dot(A, u)))\n",
    "    if verbose: print(\"k=%d, lambda=%+.3f, u=%s\\n\"%(j+1,lam,str(u.T)))\n",
    "    return (lam, u)"
   ]
  },
  {
   "cell_type": "markdown",
   "metadata": {},
   "source": [
    "**Preguntas:** \n",
    "1. ¿Porque es necesario el `try` y `except` en las líneas 11 y 13? ¿Que significa que el sistema no pueda ser resuelto?\n",
    "2. Como puede observar RQI no recibe shift como parámetro. ¿A cuál valor/vector propio convergerá? ¿Como forzar/guiar a que tienda hacia un valor/vector propio distinto?"
   ]
  },
  {
   "cell_type": "code",
   "execution_count": 19,
   "metadata": {},
   "outputs": [
    {
     "name": "stdout",
     "output_type": "stream",
     "text": [
      "lambda = 0.24303460773645452\n",
      "v = [ 0.64632243 -0.75691367 -0.09669029]\n"
     ]
    }
   ],
   "source": [
    "# Testing algorithm\n",
    "lam, v = rqi(A, x, k=2)\n",
    "print(\"lambda = {0}\".format(lam))\n",
    "print(\"v = {0}\".format(v))"
   ]
  },
  {
   "cell_type": "markdown",
   "metadata": {},
   "source": [
    "<div id='sp' />\n",
    "## $\\texttt{SciPy}$ Eigenvalue\n",
    "La librería scipy tiene implementados algoritmos que permite calcular los valores y vectores propios. Las opciones posibles son:\n",
    "\n",
    "  - En la librería scipy.linalg: eigvals/eigvalsh/eigvals_banded, eig/eigh/eig_banded,\n",
    "\n",
    "  - En la librería scipy.sparse.linalg: eigen, eigs, eigsh.\n",
    " \n",
    "En general siempre conviene utilizar las funciones desde scipy y no de numpy. La librería numpy hace un excelente trabajo al permitir el uso de vectores de tipo numérico, pero contiene solo algunos algoritmos numéricos y no necesariamente los más rápidos.\n",
    "\n",
    "A continuación se muestra como utilizar algunas de estas funciones."
   ]
  },
  {
   "cell_type": "code",
   "execution_count": 18,
   "metadata": {},
   "outputs": [
    {
     "name": "stdout",
     "output_type": "stream",
     "text": [
      "[ 2.70146268+0.j  0.24304501+0.j -1.10128726+0.j]\n",
      "********************************************************************************\n",
      "[-1.10128726  0.24304501  2.70146268]\n",
      "********************************************************************************\n",
      "(array([ 2.70146268+0.j,  0.24304501+0.j, -1.10128726+0.j]), array([[-0.56367386, -0.64305493, -0.5184131 ],\n",
      "       [-0.38516384,  0.75983704, -0.52373323],\n",
      "       [-0.73069871,  0.09554075,  0.67598178]]))\n",
      "********************************************************************************\n",
      "(array([-1.10128726,  0.24304501,  2.70146268]), array([[-0.5184131 ,  0.64305493, -0.56367386],\n",
      "       [-0.52373323, -0.75983704, -0.38516384],\n",
      "       [ 0.67598178, -0.09554075, -0.73069871]]))\n",
      "********************************************************************************\n",
      "-1.101287258356309\n",
      "[-0.5184131  -0.52373323  0.67598178]\n",
      "[ 0.57092174  0.57678073 -0.74445012]\n",
      "[ 0.57092174  0.57678073 -0.74445012]\n"
     ]
    }
   ],
   "source": [
    "# Full matrices\n",
    "from scipy import linalg as LA\n",
    "N = 3\n",
    "Aux = np.random.rand(N,N)\n",
    "A = Aux + Aux.T # symmetric, so we'll deal with real eigs.\n",
    "print(LA.eigvals(A)) # Only the eigenvalues, A not necessarily symmetric\n",
    "print(\"*\"*80)\n",
    "print(LA.eigvalsh(A)) # Only the eigenvalues, A symmetric \n",
    "print(\"*\"*80)\n",
    "print(LA.eig(A))     # All the eigenvalues and eigenvectors, A not necessarily symmetric\n",
    "print(\"*\"*80)\n",
    "print(LA.eigh(A))    # All the eigenvalues and eigenvectors, A symmetric (faster)\n",
    "print(\"*\"*80)\n",
    "lambdas, V = LA.eigh(A)    # All the eigenvalues and eigenvectors, A symmetric (faster)\n",
    "l1 = lambdas[0]\n",
    "v1 = V[:,0]\n",
    "print(l1)\n",
    "print(v1)\n",
    "print(np.dot(A, v1))\n",
    "print(l1*v1)"
   ]
  },
  {
   "cell_type": "markdown",
   "metadata": {},
   "source": [
    "<div id='problema' />\n",
    "## Problema de Aplicación\n",
    "\n",
    "Las matrices simétricas tiene una propiedad muy interesante:\n",
    "\n",
    "* Los vectores propios de las matrices simétricas son ortogonales entre sí.\n",
    "\n",
    "En base a lo anterior se propone el siguiente algoritmo para encontrar los primeros $k$ valores/vectores propios:\n",
    "\n",
    "```python\n",
    "def kEigenFinder(A, k, p):\n",
    "    m = A.shape[0]\n",
    "    lamb = 0.\n",
    "    v = np.zeros((m,1))\n",
    "    Lamb = []\n",
    "    V = []\n",
    "    for i in range(k):\n",
    "        A -= lamb*np.dot(v,v.T)\n",
    "        lamb,v = power_iteration(A, p)\n",
    "        Lamb.append(lamb)\n",
    "        V.append(v)\n",
    "    return Lamb,V    \n",
    "```\n",
    "\n",
    "1. Justifique la validez de tal procedimiento.\n",
    "2. Construya una matriz simétrica de $100 \\times 100$ y ejecute el `kEigenFinder` sobre tal matriz. Una forma fácil de construir una matriz simétrica es la [matriz de covarianza](https://en.wikipedia.org/wiki/Covariance_matrix):\n",
    "$$\\Sigma_X = \\frac{1}{n-1}X^T X$$\n",
    "donde $X \\in \\mathbb{R}^{m \\times n}$, con $m$ _samples_ y $n$ _features_.\n",
    "\n",
    "3. Concluya acerca de la utilidad del procedimiento propuesto. "
   ]
  },
  {
   "cell_type": "markdown",
   "metadata": {},
   "source": [
    "<div id='acknowledgements' />\n",
    "# Acknowledgements\n",
    "* _Material creado por profesor Claudio Torres_ (`ctorres@inf.utfsm.cl`) _y ayudantes: Alvaro Salinas y Martín Villanueva. DI UTFSM. Abril 2016._\n",
    "\n",
    "***\n",
    "### DISCLAIMER ###\n",
    "\n",
    "El presente notebook ha sido creado para el curso **ILI286 - Computación Científica 2**, del [Departamento de Informática](http://www.inf.utfsm.cl/), [Universidad Técnica Federico Santa María](http://www.utfsm.cl/). \n",
    "\n",
    "El material ha sido creado por Claudio Torres <ctorres@inf.utfsm.cl> y Sebastian Flores <sebastian.flores@usm.cl>, y es distribuido sin restricciones. En caso de encontrar un error, por favor no dude en contactarnos.\n",
    "\n",
    "[Update 2015] Se ha actualizado los notebooks a Python3 e includio el \"magic\" \"%matplotlib inline\" antes de cargar matplotlib para que los gráficos se generen en el notebook. \n",
    "\n",
    "[Update 2016] (Martín) Modificaciones mayores al formato original. Agregado contexto: Introducción, marco teórico, explicaciones y tareas. Modificaciones menores en los algoritmos. Agregada la sección de Problema de Aplicación.\n",
    "\n",
    "[Update 2018] (C.Torres) Using np.linalg.\n",
    "***"
   ]
  }
 ],
 "metadata": {
  "anaconda-cloud": {},
  "kernelspec": {
   "display_name": "Python 3",
   "language": "python",
   "name": "python3"
  },
  "language_info": {
   "codemirror_mode": {
    "name": "ipython",
    "version": 3
   },
   "file_extension": ".py",
   "mimetype": "text/x-python",
   "name": "python",
   "nbconvert_exporter": "python",
   "pygments_lexer": "ipython3",
   "version": "3.6.4"
  }
 },
 "nbformat": 4,
 "nbformat_minor": 1
}
