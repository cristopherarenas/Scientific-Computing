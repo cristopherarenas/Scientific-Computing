{
 "cells": [
  {
   "cell_type": "markdown",
   "metadata": {},
   "source": [
    "<center>\n",
    "    <h1> ILI285 - Computación Científica I  / INF285 - Computación Científica </h1>\n",
    "    <h2> Interpolation: Splines </h2>\n",
    "    <h2> [[S]cientific [C]omputing [T]eam](#acknowledgements)</h2>\n",
    "    <h2> Version: 1.21</h2>\n",
    "</center>"
   ]
  },
  {
   "cell_type": "markdown",
   "metadata": {},
   "source": [
    "## Table of Contents\n",
    "* [Introduction](#intro)\n",
    "* [Splines](#sp)\n",
    "* [Properties](#pr)\n",
    "* [Solving](#so)\n",
    "* [The additional Property](#ad)\n",
    "* [Exercises](#ex)\n",
    "* [Acknowledgements](#acknowledgements)"
   ]
  },
  {
   "cell_type": "code",
   "execution_count": null,
   "metadata": {},
   "outputs": [],
   "source": [
    "import numpy as np\n",
    "import matplotlib.pyplot as plt\n",
    "%matplotlib inline\n",
    "import scipy as sp\n",
    "from scipy import interpolate\n",
    "import ipywidgets as widgets\n",
    "import matplotlib as mpl\n",
    "mpl.rcParams['font.size'] = 14\n",
    "mpl.rcParams['axes.labelsize'] = 20\n",
    "mpl.rcParams['xtick.labelsize'] = 14\n",
    "mpl.rcParams['ytick.labelsize'] = 14\n",
    "from scipy.interpolate import CubicSpline\n",
    "M=8"
   ]
  },
  {
   "cell_type": "markdown",
   "metadata": {},
   "source": [
    "<div id='intro' />\n",
    "## Introduction"
   ]
  },
  {
   "cell_type": "markdown",
   "metadata": {
    "collapsed": true
   },
   "source": [
    "Previously in our jupyter notebooks, we learn about interpolation. Methods like Newton's Divided Difference, Lagrange, among others. Other alternative for interpolate a set of data points is using ** Cubic Splines**.\n",
    "This technique, avoids the Runge's Phenomenon and creates a 3-degree polynomial easily."
   ]
  },
  {
   "cell_type": "markdown",
   "metadata": {},
   "source": [
    "<div id='sp' />\n",
    "## Splines"
   ]
  },
  {
   "cell_type": "markdown",
   "metadata": {},
   "source": [
    "The most common spline is the linear spline. Given a set of points $(x_{1},y_{1}), (x_{2},y_{2}),...,(x_{n},y_{n}) $, this spline connects each point creating a non-smooth curve. However, this polynomial haves a problem. It's no smooth curve! For to avoid this problem, **the cubic splines creates a set of 3-degree polynomial (specifically n-1 polynomials)**... a much better curve.\n",
    "\n",
    " "
   ]
  },
  {
   "cell_type": "code",
   "execution_count": null,
   "metadata": {},
   "outputs": [],
   "source": [
    "# Code based on Example from: https://docs.scipy.org/doc/scipy/reference/generated/scipy.interpolate.CubicSpline.html#scipy.interpolate.CubicSpline\n",
    "\n",
    "# The data\n",
    "x = np.linspace(0,2*np.pi,12)\n",
    "y = np.sin(x)\n",
    "\n",
    "# Building interpolation object\n",
    "cs = CubicSpline(x, y)\n",
    "\n",
    "# Defining a finer mesh to plot the function\n",
    "xx = np.linspace(0,2*np.pi,100)\n",
    "\n",
    "#Interpolating the date with the spline\n",
    "yy = cs(xx)\n",
    "yy1 = cs(xx, 1)\n",
    "yy2 = cs(xx, 2)\n",
    "yy3 = cs(xx, 3)\n",
    "yy4 = cs(xx, 4)\n",
    "\n",
    "# Plotting the splines and its derivatives\n",
    "plt.figure(figsize=(M,M))\n",
    "plt.plot(x,y,'.',markersize=20,label=r'Data Points')\n",
    "plt.plot(xx,yy, linewidth=2, label=r'S$(x)$')\n",
    "plt.plot(xx,yy1, linewidth=2, label=r'$\\frac{d}{dx}$S$(x)$')\n",
    "plt.plot(xx,yy2, linewidth=2, label=r'$\\frac{d^2}{dx^2}$S$(x)$')\n",
    "plt.plot(xx,yy3, linewidth=2, label=r'$\\frac{d^3}{dx^3}$S$(x)$')\n",
    "plt.plot(xx,yy4, linewidth=2, label=r'$\\frac{d^4}{dx^4}$S$(x)$')\n",
    "\n",
    "plt.title(r'Cubic Spline is defined as S$(x)$')\n",
    "plt.axis('tight')\n",
    "plt.xlabel(r'$x$')\n",
    "plt.ylabel(r'$y$')\n",
    "plt.grid(True)\n",
    "plt.legend(loc='center left', bbox_to_anchor=(1, 0.5))\n",
    "plt.show()\n"
   ]
  },
  {
   "cell_type": "markdown",
   "metadata": {},
   "source": [
    "The orange curve is generated with cubic splines (using the scipy implementation). The other colors are the **derivatives** of the Cubic Spline as indicated in the legend.\n",
    "However, if we thinks about this curve, we can say that exists an **infinitely many** quantity of polynomials such that meets all the points. Our goal is to create an unique polynomial. Given this condition, there is 4 properties that defines the cubic spline we are looking for. "
   ]
  },
  {
   "cell_type": "markdown",
   "metadata": {},
   "source": [
    "<div id='pr'/>\n",
    "## Properties of Splines"
   ]
  },
  {
   "cell_type": "markdown",
   "metadata": {},
   "source": [
    "When we want creates a spline of **n** data points, we obtains a set of **n-1** 3-degree polynomials. For example:\n",
    "Given a set of points $(x_{1},y_{1}), (x_{2},y_{2}),...,(x_{n},y_{n})$, the splines is:\n",
    "\n",
    "\\begin{equation} S_{1}(x) = y_{1} + b_{1}(x-x_{1}) + c_{1}(x-x_{1})^{2} + d_{1}(x-x_{1})^{3} \\\\ \n",
    "                 S_{2}(x) = y_{2} + b_{2}(x-x_{2}) + c_{2}(x-x_{2})^{2} + d_{2}(x-x_{2})^{3} \\\\\n",
    "                 ... \\\\\n",
    "                 ... \\\\\n",
    "                 ... \\\\\n",
    "                 S_{n-1}(x) = y_{n-1} + b_{n-1}(x-x_{n-1}) + c_{n-1}(x-x_{n-1})^{2} + d_{n-1}(x-x_{n-1})^{3}\n",
    "\\end{equation}"
   ]
  },
  {
   "cell_type": "markdown",
   "metadata": {},
   "source": [
    "Thus, our goal is obtains the $y, b, c$ and $d$ coefficients. With this values, we are creating the spline $S(x)$ that meets all the data points. This spline have the next properties:"
   ]
  },
  {
   "cell_type": "markdown",
   "metadata": {},
   "source": [
    "## Property 1 (Are the points connected?)\n",
    "\n",
    "The first property checks if each x-coordinate reachs the correspondant y-coordinate in the spline $S(x)$. Thus, checks if the spline meets the data points.\n",
    "\n",
    "$$S_{i}(x_{i}) = y_{i}$$ $$ S_{i}(x_{i+1}) = y_{i+1}$$ \n",
    "\n",
    "$$i \\in [1,n-1]$$\n"
   ]
  },
  {
   "cell_type": "markdown",
   "metadata": {},
   "source": [
    "## Property 2 (Slope Continuity)\n",
    "\n",
    "The second property ensures that the slopes of the splines at the points' neighborhood to be equals. This guarantees the smoothly of $S(x)$\n",
    "\n",
    "$$S'_{i-1}(x_{i}) = S'_{i}(x_{i})$$\n",
    "\n",
    "$$i \\in [2,n-1]$$"
   ]
  },
  {
   "cell_type": "markdown",
   "metadata": {},
   "source": [
    "## Property 3 (Curvature Continuity)\n",
    "\n",
    "This property ensure that the curvature between differents polynomials will be equal at the neighborhood of points, avoiding abrupt changes of the curve at the data points. \n",
    "\n",
    "$$S''_{i-1}(x_{i}) = S''_{i}(x_{i})$$\n",
    "\n",
    "$$i \\in [2,n-1]$$"
   ]
  },
  {
   "cell_type": "markdown",
   "metadata": {
    "collapsed": true
   },
   "source": [
    "<div id='so' />\n",
    "## Solving the system \n",
    "\n",
    "If we have **n points**, we know that our splines will be composed of **n-1 curves** $S_{i}(x)$. We have too, **(3n-3) unknowns variables** ($b_{i}, c_{i}, d_{i}$ for each spline). However, we can build a system of equations for find this variables. How can i do this? Easy.. Using the previous properties!\n",
    "\n",
    "Using the previously defined splines for n points:\n",
    "\\begin{equation} S_{1}(x) = y_{1} + b_{1}(x-x_{1}) + c_{1}(x-x_{1})^{2} + d_{1}(x-x_{1})^{3} \\\\ \n",
    "                 S_{2}(x) = y_{2} + b_{2}(x-x_{2}) + c_{2}(x-x_{2})^{2} + d_{2}(x-x_{2})^{3} \\\\\n",
    "                 \\vdots \\\\\n",
    "                 S_{n-1}(x) = y_{n-1} + b_{n-1}(x-x_{n-1}) + c_{n-1}(x-x_{n-1})^{2} + d_{n-1}(x-x_{n-1})^{3}\n",
    "\\end{equation}\n",
    "\n",
    "We need too, the first derivatives of this curves:\n",
    "\\begin{equation} S'_{1}(x) = b_{1} + 2c_{1}(x-x_{1}) + 3d_{1}(x-x_{1})^{2} \\\\ \n",
    "                 S'_{1}(x) = b_{2} + 2c_{2}(x-x_{2}) + 3d_{2}(x-x_{2})^{2} \\\\\n",
    "                 \\vdots \\\\\n",
    "                 S'_{n-1}(x) = b_{n-1} + 2c_{n-1}(x-x_{n-1}) + 3d_{n-1}(x-x_{n-1})^{2} \\\\\n",
    "\\end{equation}\n",
    "\n",
    "And its second derivatives:\n",
    "\\begin{equation} S''_{1}(x) = 2c_{1} + 6d_{1}(x-x_{1}) \\\\ \n",
    "                 S''_{2}(x) = 2c_{2} + 6d_{2}(x-x_{2}) \\\\ \n",
    "                 \\vdots \\\\\n",
    "                 S''_{n-1}(x) = 2c_{n-1} + 6d_{n-1}(x-x_{n-1}) \\\\ \n",
    "\\end{equation}\n",
    "\n",
    "Using the first property, we get **(n-1) equations}**:\n",
    "\n",
    "\\begin{equation} b_{1}(x_{2}-x_{1}) + c_{1}(x_{2}-x_{1})^2 + d_{1}(x_{2}-x_{1})^3 = y_{2} - y_{1} \\hspace{1cm}(1)\\\\  \n",
    "                 b_{2}(x_{3}-x_{2}) + c_{2}(x_{3}-x_{2})^2 + d_{2}(x_{3}-x_{2})^3 = y_{3} - y_{2} \\hspace{1cm}(2)\\\\ \n",
    "                 \\vdots\\\\\n",
    "                 b_{n-1}(x_{n}-x_{n-1}) + c_{n-1}(x_{n}-x_{n-1})^2 + d_{n-1}(x_{n}-x_{n-1})^3 = y_{n} - y_{n-1} \\hspace{1cm}(n-1) \n",
    "\\end{equation}\n",
    "\n",
    "Using the second property, we get **(n-2) equations**:\n",
    "\n",
    "\\begin{equation} b_{1}+2c_{1}(x_{2}-x_{1}) + 3d_{1}(x_{2}-x_{1})^2 - b_{2}= 0 \\hspace{1cm}(1)\\\\ \n",
    "                 b_{2}+2c_{2}(x_{3}-x_{2}) + 3d_{2}(x_{3}-x_{2})^2 - b_{3}=  0 \\hspace{1cm}(2)\\\\ \n",
    "                 \\vdots\\\\\n",
    "                 b_{n-2}+2c_{n-2}(x_{n-1}-x_{n-2}) + 3d_{n-2}(x_{n-1}-x_{n-2})^2 -b_{n-1}=0  \\hspace{1cm}(n-2)\\\\ \n",
    "\\end{equation}\n",
    "\n",
    "Using the third property, we get **(n-2) equations**:\n",
    "\n",
    "\\begin{equation} 2c_{1}+6d_{1}(x_{2}-x_{1}) - 2c_{2} = 0 \\hspace{1cm}(1)\\\\ \n",
    "                 2c_{2}+6d_{2}(x_{3}-x_{2}) - 2c_{3}=0 \\hspace{1cm}(2)\\\\ \n",
    "                 \\vdots\\\\\n",
    "                 2c_{n-2}+6d_{n-2}(x_{n-1}-x_{n-2}) - 2c_{n-1} = 0 \\hspace{1cm}(n-2)\\\\ \n",
    "\\end{equation}\n",
    "\n",
    "If we adds all our equations, we obtains **(3n-5) equations**. Clearly, the matrix in that system is not square (we need 2 equations more). For this, **we have another property**, that defines the edges conditions of the splines\n",
    "\n"
   ]
  },
  {
   "cell_type": "markdown",
   "metadata": {
    "collapsed": true
   },
   "source": [
    "<div id='ad'/>\n",
    "# Splines Ending options\n",
    "\n",
    "For this special property, we have the following 5 properties:\n",
    "\n",
    "## Natural Spline:\n",
    "This property create a spline with zero curvature, thus:\n",
    "\\begin{align*}\n",
    "S''_{1}(x_{1}) &= 2c_{1} = 0\\\\\n",
    "S''_{n-1}(x_{n}) &= 2c_{n-1}+6d_{n-1}(x_{n}-x_{n-1}) = 0\n",
    "\\end{align*}\n",
    "\n",
    "## Adjusted curvature:\n",
    "This property create a spline which curvature is equal to a parameter previously defined, not necessarily zero.\n",
    "\\begin{align*}\n",
    "S''_{1}(x_{1}) &= 2c_{1} = \\kappa_{1}\\\\\n",
    "S''_{n-1}(x_{n}) &= 2c_{n-1}+6d_{n-1}(x_{n}-x_{n-1}) = \\kappa_{2}\n",
    "\\end{align*}\n",
    "\n",
    "## Clamped cubic spline: \n",
    "This property adjust the slopes at the edges of splines to a value previously defined\n",
    "\\begin{align*}\n",
    "S'_{1}(x_{1}) & = b_{1} = p_{1} \\\\\n",
    "S'_{n-1}(x_{n}) & = b_{n-1}+2c_{n-1}(x_{n}-x_{n-1}) + 3d_{n-1}(x_{n}-x_{n-1})^2  = p_{2}\n",
    "\\end{align*}\n",
    "\n",
    "## Ended Parabolically\n",
    "With this property, the edges of the splines are 2-degree polynomials. Hence the coefficients:\n",
    "\\begin{align*}\n",
    "d_{1} &= 0 \\\\\n",
    "d_{n-1} &= 0\n",
    "\\end{align*}\n",
    "\n",
    "- Why does this property does not work for $n\\le 3$?\n",
    "\n",
    "## Not-a-Knot cubic spline\n",
    "This condition, checks the continuity at the edges, for the third derivative:\n",
    "\\begin{align*}\n",
    "S'''_{1}(x_{2}) &= S'''_{2}(x_{2})\\\\\n",
    "6d_{1}&=6d_{2}\\\\\n",
    "S'''_{n-2}(x_{n-1}) &= S'''_{n-1}(x_{n-1})\\\\\n",
    "6d_{n-2}&=6d_{n-1}\n",
    "\\end{align*}\n",
    "\n",
    "- Why does this property does not work for $n\\le 4$?\n"
   ]
  },
  {
   "cell_type": "markdown",
   "metadata": {},
   "source": [
    "Each property give us the 2 equations needed. Thanks to this, we have **(3n-3) unknowns and equations**\n",
    "Finally, for to find the coefficients of the spline, we''ll build the system of equations.\n",
    "\n",
    "## Example: \n",
    "- If we have the following 3 points: $(x_1,y_1),(x_1,y_1),(x_3,y_3)$\n",
    "- We will get 6 unknowns\n",
    "- So, to build a Natural spline, we need to solve the following linear system of equation:\n",
    "\n",
    "$$ \\begin{bmatrix} (x_2-x_1) & (x_2-x_1)^2 & (x_2-x_1)^3 & 0 & 0 & 0 \\\\ \n",
    "                  0 & 0 & 0 &(x_3-x_2) & (x_3-x_2)^2 & (x_3-x_2)^3  \\\\\n",
    "                  1 & 2(x_2-x_1) & 3(x_2-x_1)^2 & -1 & 0 & 0 \\\\\n",
    "                  0 & 2 & 6(x_2-x_1) & 0 & -2 & 0 \\\\\n",
    "                  0 & 2 & 0 & 0 & 0 & 0 \\\\\n",
    "                  0 & 0 & 0 & 0 & 2 & 6(x_3-x_2) \\\\\n",
    "                  \\end{bmatrix} \n",
    "                  \\left[ \\begin{array}{c} b_1 \\\\ c_1 \\\\ d_1 \\\\ b_2 \\\\ c_2 \\\\ d_2 \\end{array} \\right] = \n",
    "                  \\left[ \\begin{array}{c} y_2-y_1 \\\\ y_3-y_2 \\\\ 0 \\\\ 0 \\\\ 0 \\\\ 0  \\end{array} \\right] \n",
    "$$\n",
    "\n",
    "Finally, find the coefficients of splines is reduced to solve an equation system, and we already know this from previous notebooks!\n",
    "\n",
    "Now the code:"
   ]
  },
  {
   "cell_type": "code",
   "execution_count": null,
   "metadata": {},
   "outputs": [],
   "source": [
    "def cubic_spline(x, y, end=None, k1=0, k2=0, p1=0, p2=0):\n",
    "    #x: x-coordinates of points\n",
    "    #y: y-coordinates of points\n",
    "    #end: Natural, Adjusted, Clamped, Parabolically, NaK\n",
    "    \n",
    "    n = len(x)\n",
    "    A = np.zeros((3*n-3, 3*n-3))\n",
    "    b = np.zeros(3*n-3)\n",
    "    \n",
    "    delta_x=np.diff(x)\n",
    "       \n",
    "    #Building the linear system of equations\n",
    "    \n",
    "    #1st property\n",
    "    for i in np.arange(n-1):\n",
    "        b[i]= y[i+1]-y[i]\n",
    "        A[i,3*i:3*(i+1)] = [delta_x[i],delta_x[i]**2,delta_x[i]**3]\n",
    "    #2nd property\n",
    "    for i in np.arange(n-2):\n",
    "        A[(n-1)+i,3*i:3*(i+1)+1]=[1, 2*delta_x[i], 3*delta_x[i]**2, -1]\n",
    "    #3rd property\n",
    "    for i in np.arange(n-2):\n",
    "        A[(n-1)+(n-2)+i,3*i:3*(i+1)+2] = [0, 2, 6*delta_x[i], 0, -2]\n",
    "    \n",
    "    #Ending conditions (4th property)\n",
    "    if end =='Natural':\n",
    "        A[-2,1]= 2\n",
    "        A[-1,-2] = 2\n",
    "        A[-1,-1] = 6*delta_x[-1]\n",
    "\n",
    "    elif end == 'Adjusted':\n",
    "        A[-2,1]= 2\n",
    "        A[-1,-2] = 2\n",
    "        A[-1,-1] = 6*delta_x[-1]\n",
    "        b[-2:] = [k1,k2]\n",
    "        print('Adjusted',b[-2:])\n",
    "\n",
    "    elif end == 'Clamped':\n",
    "        A[-2,0]=1\n",
    "        A[-1,-3:] = [1,2*delta_x[-1],3*delta_x[-1]**2]\n",
    "        b[-2:] = [p1,p2]\n",
    "\n",
    "    elif end == 'Parabolically':\n",
    "        A[-2,2]=1\n",
    "        A[-1,-1]=1\n",
    "\n",
    "    elif end == 'NaK':\n",
    "        A[-2,2:6]=[6,0,0,-6]\n",
    "        A[-1,-4:]=[6,0,0,-6]\n",
    "    \n",
    "    #Solving the system\n",
    "    sol = np.linalg.solve(A,b)\n",
    "    S = {'b':sol[::3],\n",
    "         'c':sol[1::3],\n",
    "         'd':sol[2::3],\n",
    "         'x':x,\n",
    "         'y':y\n",
    "        }\n",
    "    return S\n",
    "\n",
    "# 'der' computes the 'der'-derivative of the Spline, \n",
    "# but it has not been implemented. Can you do it? Please do it!\n",
    "def cubic_spline_eval(xx,S,der=0):\n",
    "    x=S['x']\n",
    "    y=S['y']\n",
    "    b=S['b']\n",
    "    c=S['c']\n",
    "    d=S['d']\n",
    "    n=len(x)\n",
    "    yy=np.zeros_like(xx)\n",
    "    for i in np.arange(n-1):\n",
    "        jj = np.where(np.logical_and(x[i]<=xx,xx<=x[i+1]))\n",
    "        yy[jj]=y[i]+b[i]*(xx[jj]-x[i])+c[i]*(xx[jj]-x[i])**2+d[i]*(xx[jj]-x[i])**3\n",
    "    return yy"
   ]
  },
  {
   "cell_type": "markdown",
   "metadata": {},
   "source": [
    "## Example 1 - Hand made interpolation"
   ]
  },
  {
   "cell_type": "code",
   "execution_count": null,
   "metadata": {},
   "outputs": [],
   "source": [
    "x = np.array([1,2,4,5])\n",
    "y = np.array([2,1,4,3])\n",
    "S = cubic_spline(x,y,end='Natural')\n",
    "\n",
    "x1 = np.linspace(1,2,200)\n",
    "x2 = np.linspace(2,4,200)\n",
    "x3 = np.linspace(4,5,200)\n",
    "\n",
    "S1 = y[0]+S['b'][0]*(x1-x[0])+S['c'][0]*(x1-x[0])**2+S['d'][0]*(x1-x[0])**3\n",
    "S2 = y[1]+S['b'][1]*(x2-x[1])+S['c'][1]*(x2-x[1])**2+S['d'][1]*(x2-x[1])**3\n",
    "S3 = y[2]+S['b'][2]*(x3-x[2])+S['c'][2]*(x3-x[2])**2+S['d'][2]*(x3-x[2])**3\n",
    "\n",
    "plt.figure(figsize=(M,M))\n",
    "plt.plot(x,y,'k.',markersize=20,label='Data Points')\n",
    "plt.plot(x1,S1,'b',linewidth=5,label=r'S$1(x)$')\n",
    "plt.plot(x2,S2,'g',linewidth=5,label=r'S$2(x)$')\n",
    "plt.plot(x3,S3,'r',linewidth=5,label=r'S$2(x)$')\n",
    "plt.xlabel('$x$')\n",
    "plt.ylabel('$y$')\n",
    "plt.legend(loc='center left', bbox_to_anchor=(1, 0.5))\n",
    "plt.grid(True)\n",
    "plt.show()"
   ]
  },
  {
   "cell_type": "markdown",
   "metadata": {},
   "source": [
    "## Example 2"
   ]
  },
  {
   "cell_type": "code",
   "execution_count": null,
   "metadata": {},
   "outputs": [],
   "source": [
    "def show_spline(type_ending='Natural',k1=0, k2=0, p1=0, p2=0):\n",
    "    #type_ending='Natural'\n",
    "    x = np.array([1,2,4,5,7,9])\n",
    "    y = np.array([2,1,4,3,3,4])\n",
    "    xx=np.linspace(np.min(x),np.max(x),1000)\n",
    "    S = cubic_spline(x,y,end=type_ending, k1=k1, k2=k2, p1=p1, p2=p2)\n",
    "    plt.figure(figsize=(M,M))\n",
    "    plt.plot(xx,cubic_spline_eval(xx,S),'-',linewidth=5,label=r'S$(x)$')\n",
    "    plt.plot(x,y,'k.',markersize=20,label='Data Points')\n",
    "    plt.xlabel('$x$')\n",
    "    plt.ylabel('$y$')\n",
    "    plt.legend(loc='center left', bbox_to_anchor=(1, 0.5))\n",
    "    plt.grid(True)\n",
    "    plt.show()\n",
    "widgets.interact(show_spline, type_ending=['Natural','Adjusted','Clamped','Parabolically','NaK'],\n",
    "                k1=(-20,20,1),k2=(-20,20,1),p1=(-2,2,0.2),p2=(-2,2,0.2))"
   ]
  },
  {
   "cell_type": "markdown",
   "metadata": {},
   "source": [
    "<div id='ex'/>\n",
    "\n",
    "## Exercises\n",
    "Now, a few questions about splines:\n",
    "- Create the Clamped Cubic Spline given $(0,0), (1,1), (2,2)$. Consider  $S'_1(x_1) = 0$ y $S'_3(x_3) = 1$. Plot it.\n",
    "- Can you add another point without recalculating all the coefficients again?\n",
    "- Implement the 'der' input of the 'cubic_spline_eval' function so we can visualize the derivatives of the spline.\n",
    "- Add the plots of all the derivatives you consider can be computed into Example 2."
   ]
  },
  {
   "cell_type": "markdown",
   "metadata": {
    "collapsed": true
   },
   "source": [
    "## References\n",
    "\n",
    "### Scipy Cubic Spline Interpolation\n",
    "- https://docs.scipy.org/doc/scipy/reference/generated/scipy.interpolate.CubicSpline.html#scipy.interpolate.CubicSpline\n"
   ]
  },
  {
   "cell_type": "markdown",
   "metadata": {
    "collapsed": true
   },
   "source": [
    "<div id='acknowledgements' />\n",
    "# Acknowledgements\n",
    "* _Material created by professor Claudio Torres_ (`ctorres@inf.utfsm.cl`) _and assistans: Laura Bermeo, Alvaro Salinas, Axel Simonsen and Martín Villanueva. DI UTFSM. April 2016._\n",
    "* _Updated by Claudio Torres_ (`ctorres@inf.utfsm.cl`). _DI UTFSM. June 2017._\n",
    "* _Updated by Claudio Torres_ (`ctorres@inf.utfsm.cl`). _DI UTFSM. May 2018._"
   ]
  },
  {
   "cell_type": "code",
   "execution_count": null,
   "metadata": {},
   "outputs": [],
   "source": []
  }
 ],
 "metadata": {
  "anaconda-cloud": {},
  "kernelspec": {
   "display_name": "Python 3",
   "language": "python",
   "name": "python3"
  },
  "language_info": {
   "codemirror_mode": {
    "name": "ipython",
    "version": 3
   },
   "file_extension": ".py",
   "mimetype": "text/x-python",
   "name": "python",
   "nbconvert_exporter": "python",
   "pygments_lexer": "ipython3",
   "version": "3.6.7"
  },
  "widgets": {
   "state": {
    "e95663d87799432dbc048698ba99cf3c": {
     "views": [
      {
       "cell_index": 22
      }
     ]
    }
   },
   "version": "1.2.0"
  }
 },
 "nbformat": 4,
 "nbformat_minor": 1
}
