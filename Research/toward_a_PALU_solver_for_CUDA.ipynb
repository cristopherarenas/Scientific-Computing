{
 "cells": [
  {
   "cell_type": "markdown",
   "metadata": {},
   "source": [
    "<center>\n",
    "    <h2> [[S]cientific [C]omputing [T]eam]</h2>\n",
    "    <h2> Version: 1.0</h2>\n",
    "    <h2> Modified implementation of PALU for CUDA</h2>\n",
    "</center>"
   ]
  },
  {
   "cell_type": "code",
   "execution_count": 1,
   "metadata": {},
   "outputs": [],
   "source": [
    "import numpy as np\n",
    "import matplotlib.pyplot as plt\n",
    "%matplotlib inline"
   ]
  },
  {
   "cell_type": "markdown",
   "metadata": {},
   "source": [
    "# Classic version ALU"
   ]
  },
  {
   "cell_type": "code",
   "execution_count": 2,
   "metadata": {},
   "outputs": [],
   "source": [
    "def lu_decomp(A, show=False):\n",
    "    N,_ = A.shape\n",
    "    U = np.copy(A)\n",
    "    L = np.identity(N)\n",
    "    if show:\n",
    "        print('Initial matrices')\n",
    "        print('L = '); print(np.array_str(L, precision=2, suppress_small=True))\n",
    "        print('U = '); print(np.array_str(U, precision=2, suppress_small=True))\n",
    "        print('----------------------------------------')\n",
    "    #iterating through columns\n",
    "    for j in range(N-1):\n",
    "        #iterating through rows\n",
    "        for i in range(j+1,N):\n",
    "            L[i,j] = U[i,j]/U[j,j]\n",
    "            U[i] -= L[i,j]*U[j] \n",
    "            if show:\n",
    "                print('L = '); print(np.array_str(L, precision=2, suppress_small=True))\n",
    "                print('U = '); print(np.array_str(U, precision=2, suppress_small=True))\n",
    "                print('----------------------------------------')\n",
    "    return L,U\n",
    "\n",
    "\"\"\"\n",
    "Solves a linear system A x = b, where A is a\n",
    "triangular (upper or lower) matrix\n",
    "\"\"\"\n",
    "def solve_triangular(A, b, upper=True):\n",
    "    n = b.shape[0]\n",
    "    x = np.zeros_like(b)\n",
    "    if upper==True:\n",
    "        #perform back-substitution\n",
    "        x[-1] = (1./A[-1,-1]) * b[-1]\n",
    "        for i in range(n-2, -1, -1):\n",
    "            x[i] = (1./A[i,i]) * (b[i] - np.sum(A[i,i+1:] * x[i+1:]))\n",
    "    else:\n",
    "        #perform forward-substitution\n",
    "        x[0] = (1./A[0,0]) * b[0]\n",
    "        for i in range(1,n):\n",
    "            x[i] = (1./A[i,i]) * (b[i] - np.sum(A[i,:i] * x[:i]))\n",
    "    return x\n",
    "\n",
    "def solve_lu(A, b, show=False):\n",
    "    L,U = lu_decomp(A, show)\n",
    "    # L.c = b with c = U.x\n",
    "    c = solve_triangular(L, b, upper=False)\n",
    "    x = solve_triangular(U, c)\n",
    "    return x"
   ]
  },
  {
   "cell_type": "markdown",
   "metadata": {},
   "source": [
    "# Classic version PALU"
   ]
  },
  {
   "cell_type": "code",
   "execution_count": 3,
   "metadata": {},
   "outputs": [],
   "source": [
    "#permutation between rows i and j on matrix A\n",
    "def row_perm(A, i, j):\n",
    "    tmp = np.copy(A[i])\n",
    "    A[i] = A[j]\n",
    "    A[j] = tmp\n",
    "\n",
    "def palu_decomp(A, show=False):\n",
    "    N,_ = A.shape\n",
    "    P = np.identity(N)\n",
    "    L = np.zeros((N,N))\n",
    "    U = np.copy(A)\n",
    "    if show:\n",
    "        print('Initial matrices')\n",
    "        print('P = '); print(np.array_str(P, precision=2, suppress_small=True))\n",
    "        print('L = '); print(np.array_str(L, precision=2, suppress_small=True))\n",
    "        print('U = '); print(np.array_str(U, precision=2, suppress_small=True))\n",
    "        print('----------------------------------------')\n",
    "    #iterating through columns\n",
    "    for j in range(N-1):\n",
    "        #determine the new pivot\n",
    "        p_index = np.argmax(np.abs(U[j:,j]))\n",
    "        if p_index != 0:\n",
    "            row_perm(P, j, j+p_index)\n",
    "            row_perm(U, j, j+p_index)\n",
    "            row_perm(L, j, j+p_index)\n",
    "            if show:\n",
    "                print('A permutation has been made')\n",
    "                print('P = '); print(np.array_str(P, precision=2, suppress_small=True))\n",
    "                print('L = '); print(np.array_str(L, precision=2, suppress_small=True))\n",
    "                print('U = '); print(np.array_str(U, precision=2, suppress_small=True))\n",
    "                print('----------------------------------------')\n",
    "        #iterating through rows\n",
    "        for i in range(j+1,N):\n",
    "            L[i,j] = U[i,j]/U[j,j]\n",
    "            U[i] -= L[i,j]*U[j]\n",
    "            if show:\n",
    "                print('P = '); print(np.array_str(P, precision=2, suppress_small=True))\n",
    "                print('L = '); print(np.array_str(L, precision=2, suppress_small=True))\n",
    "                print('U = '); print(np.array_str(U, precision=2, suppress_small=True))\n",
    "                print('----------------------------------------')\n",
    "    np.fill_diagonal(L,1)\n",
    "    return P,L,U"
   ]
  },
  {
   "cell_type": "markdown",
   "metadata": {},
   "source": [
    "# Modified version PALU"
   ]
  },
  {
   "cell_type": "code",
   "execution_count": 4,
   "metadata": {},
   "outputs": [],
   "source": [
    "def palu_decomp2(A, show=False):\n",
    "    N,_ = A.shape\n",
    "    P2 = np.arange(N)\n",
    "    A2 =np.copy(A)\n",
    "    L = np.zeros((N,N))\n",
    "    U = np.copy(A)\n",
    "    if show:\n",
    "        print('Initial matrices')\n",
    "        print('P  = '); print(np.array_str(P, precision=2, suppress_small=True))\n",
    "        print('L  = '); print(np.array_str(L, precision=2, suppress_small=True))\n",
    "        print('U  = '); print(np.array_str(U, precision=2, suppress_small=True))\n",
    "        print('A2 = '); print(np.array_str(A2, precision=2, suppress_small=True))\n",
    "        print('----------------------------------------')\n",
    "    #iterating through columns\n",
    "    for j in range(N-1):\n",
    "        #determine the new pivot\n",
    "        p_index = np.argmax(np.abs(U[j:,j]))\n",
    "        if p_index != 0:\n",
    "            row_perm(P, j, j+p_index)\n",
    "            row_perm(U, j, j+p_index)\n",
    "            row_perm(L, j, j+p_index)\n",
    "            P2[j]=j+p_index\n",
    "            P2[j+p_index]=j\n",
    "            row_perm(A2, j, j+p_index)\n",
    "            if show:\n",
    "                print('A permutation has been made')\n",
    "                print('P = '); print(np.array_str(P, precision=2, suppress_small=True))\n",
    "                print('L = '); print(np.array_str(L, precision=2, suppress_small=True))\n",
    "                print('U = '); print(np.array_str(U, precision=2, suppress_small=True))\n",
    "                print('A2 = '); print(np.array_str(A2, precision=2, suppress_small=True))\n",
    "                print('P2 = '); print(np.array_str(P2, precision=2, suppress_small=True))\n",
    "                print('----------------------------------------')\n",
    "        #iterating through rows\n",
    "        for i in range(j+1,N):\n",
    "            L[i,j]  = U[i,j]/U[j,j]\n",
    "            U[i]    -= L[i,j]*U[j]\n",
    "            \n",
    "            A2[i,j]  = A2[i,j]/A2[j,j]\n",
    "            A2[i,j+1:] -= A2[i,j]*A2[j,j+1:]\n",
    "            if show:\n",
    "                print(j,i)\n",
    "                print('P = '); print(np.array_str(P, precision=2, suppress_small=True))\n",
    "                print('L = '); print(np.array_str(L, precision=2, suppress_small=True))\n",
    "                print('U = '); print(np.array_str(U, precision=2, suppress_small=True))\n",
    "                print('A2 = '); print(np.array_str(A2, precision=2, suppress_small=True))\n",
    "                print('P2 = '); print(np.array_str(P2, precision=2, suppress_small=True))\n",
    "                print('----------------------------------------')\n",
    "    np.fill_diagonal(L,1)\n",
    "    return P,L,U,A2,P2"
   ]
  },
  {
   "cell_type": "markdown",
   "metadata": {},
   "source": [
    "# Modified version PALU 2"
   ]
  },
  {
   "cell_type": "code",
   "execution_count": 5,
   "metadata": {},
   "outputs": [],
   "source": [
    "# All prints could be removed\n",
    "def palu_decomp2(A, show=False):\n",
    "    N,_ = A.shape\n",
    "    P2 = np.arange(N)\n",
    "    A2 =np.copy(A)\n",
    "    if show:\n",
    "        print('Initial matrices')\n",
    "        print('A2 = '); print(np.array_str(A2, precision=2, suppress_small=True))\n",
    "        print('P2 = '); print(np.array_str(P2, precision=2, suppress_small=True))\n",
    "        print('----------------------------------------')\n",
    "    #iterating through columns\n",
    "    for j in range(N-1):\n",
    "        #Determine the new pivot. \n",
    "        p_index = np.argmax(np.abs(A2[j:,j])) # THIS NEEDS TO BE IMPLEMENTED IN C\n",
    "        if p_index != 0:\n",
    "            # Permuting P \"matrix\" stored as a vector\n",
    "            P2[j]=j+p_index\n",
    "            P2[j+p_index]=j\n",
    "            row_perm(A2, j, j+p_index) # THIS NEEDS TO BE IMPLEMENTED IN C\n",
    "            if show:\n",
    "                print('A permutation has been made')\n",
    "                print('A2 = '); print(np.array_str(A2, precision=2, suppress_small=True))\n",
    "                print('P2 = '); print(np.array_str(P2, precision=2, suppress_small=True))\n",
    "                print('----------------------------------------')\n",
    "        #iterating through rows\n",
    "        for i in range(j+1,N):            \n",
    "            A2[i,j]  = A2[i,j]/A2[j,j]\n",
    "            A2[i,j+1:] -= A2[i,j]*A2[j,j+1:]\n",
    "            if show:\n",
    "                print(j,i)\n",
    "                print('A2 = '); print(np.array_str(A2, precision=2, suppress_small=True))\n",
    "                print('P2 = '); print(np.array_str(P2, precision=2, suppress_small=True))\n",
    "                print('----------------------------------------')\n",
    "    return A2,P2"
   ]
  },
  {
   "cell_type": "markdown",
   "metadata": {},
   "source": [
    "# Modified version PALU 3"
   ]
  },
  {
   "cell_type": "code",
   "execution_count": 6,
   "metadata": {},
   "outputs": [],
   "source": [
    "# All prints could be removed\n",
    "def palu_decomp3(A, show=False):\n",
    "    N,_ = A.shape\n",
    "    P = np.arange(N)\n",
    "    if show:\n",
    "        print('Initial matrices')\n",
    "        print('A = '); print(np.array_str(A2, precision=2, suppress_small=True))\n",
    "        print('P = '); print(np.array_str(P2, precision=2, suppress_small=True))\n",
    "        print('----------------------------------------')\n",
    "    #iterating through columns\n",
    "    for j in range(N-1):\n",
    "        #Determine the new pivot. \n",
    "        p_index = np.argmax(np.abs(A[j:,j])) # THIS NEEDS TO BE IMPLEMENTED IN C\n",
    "        if p_index != 0:\n",
    "            # Permuting P \"matrix\" stored as a vector\n",
    "            P[j]=j+p_index\n",
    "            P[j+p_index]=j\n",
    "            row_perm(A, j, j+p_index) # THIS NEEDS TO BE IMPLEMENTED IN C\n",
    "            if show:\n",
    "                print('A permutation has been made')\n",
    "                print('A = '); print(np.array_str(A2, precision=2, suppress_small=True))\n",
    "                print('P = '); print(np.array_str(P2, precision=2, suppress_small=True))\n",
    "                print('----------------------------------------')\n",
    "        #iterating through rows\n",
    "        for i in range(j+1,N):            \n",
    "            A[i,j]  = A[i,j]/A[j,j]\n",
    "            A[i,j+1:] -= A[i,j]*A[j,j+1:]\n",
    "            if show:\n",
    "                print(j,i)\n",
    "                print('A = '); print(np.array_str(A2, precision=2, suppress_small=True))\n",
    "                print('P = '); print(np.array_str(P2, precision=2, suppress_small=True))\n",
    "                print('----------------------------------------')\n",
    "    return A,P"
   ]
  },
  {
   "cell_type": "markdown",
   "metadata": {},
   "source": [
    "# Classic solvers"
   ]
  },
  {
   "cell_type": "code",
   "execution_count": 7,
   "metadata": {},
   "outputs": [],
   "source": [
    "\"\"\"\n",
    "Solves a linear system A x = b, where A is a\n",
    "triangular (upper or lower) matrix\n",
    "\"\"\"\n",
    "def solve_triangular(A, b, upper=True):\n",
    "    n = b.shape[0]\n",
    "    x = np.zeros_like(b)\n",
    "    if upper==True:\n",
    "        #perform back-substitution\n",
    "        x[-1] = (1./A[-1,-1]) * b[-1]\n",
    "        for i in range(n-2, -1, -1):\n",
    "            x[i] = (1./A[i,i]) * (b[i] - np.sum(A[i,i+1:] * x[i+1:]))\n",
    "    else:\n",
    "        #perform forward-substitution\n",
    "        x[0] = (1./A[0,0]) * b[0]\n",
    "        for i in range(1,n):\n",
    "            x[i] = (1./A[i,i]) * (b[i] - np.sum(A[i,:i] * x[:i]))\n",
    "    return x\n",
    "\n",
    "def solve_lu(A, b, show=False):\n",
    "    L,U = lu_decomp(A, show)\n",
    "    # L.c = b with c = U.x\n",
    "    c = solve_triangular(L, b, upper=False)\n",
    "    x = solve_triangular(U, c)\n",
    "    return x\n",
    "def solve_palu(A, b, show=False):\n",
    "    P,L,U = palu_decomp(A, show)\n",
    "    #A.x = b -> P.A.x = P.b = b'\n",
    "    b = np.dot(P,b)\n",
    "    # L.c = b' with c = U.x\n",
    "    c = solve_triangular(L, b, upper=False)\n",
    "    x = solve_triangular(U, c)\n",
    "    return x"
   ]
  },
  {
   "cell_type": "markdown",
   "metadata": {},
   "source": [
    "# Modified solvers"
   ]
  },
  {
   "cell_type": "code",
   "execution_count": 8,
   "metadata": {},
   "outputs": [],
   "source": [
    "\"\"\"\n",
    "Solves a linear system A x = L U x = b,\n",
    "where A has L and U stored in itself.\n",
    "Recall L has 1 in the diagonal, so they\n",
    "where not stored.\n",
    "IDEA: Reduced memory usage.\n",
    "\"\"\"\n",
    "def solve_ALU_reduced(A, b):\n",
    "    N = b.shape[0]\n",
    "    # We store here a temporal solution\n",
    "    c = np.zeros_like(b)\n",
    "    # Solving Lc=b, recall L[i,i]=1\n",
    "    # Performing Forward-Substitution\n",
    "    # Original code: c[0] = b[0]/A[0,0], we removed A[0,0] since we know it is 1 and it was not stored in A\n",
    "    c[0] = b[0]\n",
    "    for i in range(1,N):\n",
    "        tmp=0\n",
    "        for j in range(i):\n",
    "            tmp += A[i,j] * c[j]\n",
    "        # Original code: c[i] = (b[i] - tmp)/A[i,i], we removed A[i,i] since we know it is 1 and it was not stored in A\n",
    "        c[i] = b[i] - tmp\n",
    "    \n",
    "    # The final solution will be stored in b\n",
    "    # Performing Back-Substitution\n",
    "    b[N-1] = c[N-1]/A[N-1,N-1]\n",
    "    for i in range(N-2, -1, -1):\n",
    "        tmp=0\n",
    "        for j in range(i+1,N):\n",
    "            tmp += A[i,j] * b[j]\n",
    "        b[i] = (c[i] - tmp)/A[i,i]\n",
    "    return b\n",
    "\n",
    "def solve_palu2(A, b, show=False):\n",
    "    A,P = palu_decomp3(A, show)\n",
    "    #A.x = b -> P.A.x = P.b = b'\n",
    "    b = b[P]\n",
    "    # L.c = b' with c = U.x\n",
    "    x=solve_ALU_reduced(A, b)\n",
    "    return x"
   ]
  },
  {
   "cell_type": "markdown",
   "metadata": {},
   "source": [
    "# Example"
   ]
  },
  {
   "cell_type": "code",
   "execution_count": 9,
   "metadata": {},
   "outputs": [],
   "source": [
    "N=100\n",
    "np.random.seed(0)\n",
    "A = np.random.random((N,N))\n",
    "b = np.ones(N)"
   ]
  },
  {
   "cell_type": "code",
   "execution_count": 10,
   "metadata": {},
   "outputs": [
    {
     "name": "stdout",
     "output_type": "stream",
     "text": [
      "3.90161921718855e-14\n"
     ]
    }
   ],
   "source": [
    "# Classic solution\n",
    "x1=solve_palu(A, b, show=False)\n",
    "#print(x1)\n",
    "# Improved (less memory usage) solver\n",
    "x2=solve_palu2(A, b, show=False)\n",
    "#print(x2)\n",
    "# Comparison\n",
    "print(np.linalg.norm(x1-x2))"
   ]
  },
  {
   "cell_type": "code",
   "execution_count": 11,
   "metadata": {},
   "outputs": [],
   "source": [
    "# The procedures to be implemented in CUDA are:\n",
    "# solve_palu2: wrapper\n",
    "# palu_decomp2: it computed PALU decomposition and it stores LU in A and it also returns P as a vector.\n",
    "# solve_ALU_reduced: it does forward and backward decomposition considering A has LU stored in it, \n",
    "#                    the RHS is assumed to be permuted previously."
   ]
  }
 ],
 "metadata": {
  "kernelspec": {
   "display_name": "Python 3",
   "language": "python",
   "name": "python3"
  },
  "language_info": {
   "codemirror_mode": {
    "name": "ipython",
    "version": 3
   },
   "file_extension": ".py",
   "mimetype": "text/x-python",
   "name": "python",
   "nbconvert_exporter": "python",
   "pygments_lexer": "ipython3",
   "version": "3.6.4"
  }
 },
 "nbformat": 4,
 "nbformat_minor": 2
}
